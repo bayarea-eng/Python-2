{
 "cells": [
  {
   "cell_type": "markdown",
   "metadata": {},
   "source": [
    "# Python Statistics -- Class 1"
   ]
  },
  {
   "cell_type": "code",
   "execution_count": 1,
   "metadata": {},
   "outputs": [
    {
     "name": "stdout",
     "output_type": "stream",
     "text": [
      "15\n",
      "Python Statistics\n"
     ]
    }
   ],
   "source": [
    "# Test if your Jupyter notebook is working!!! \n",
    "lucky_number = 1 + 2 + 3 + 4 + 5\n",
    "print(lucky_number)\n",
    "class_name = \"Python Statistics\"\n",
    "print(class_name)"
   ]
  },
  {
   "cell_type": "code",
   "execution_count": 3,
   "metadata": {},
   "outputs": [],
   "source": [
    "import random \n",
    "# Python library for generating random numbers"
   ]
  },
  {
   "cell_type": "markdown",
   "metadata": {},
   "source": [
    "# random() creates a random floating point number between 0.0 and 1\n",
    "# Including 0 and excluding 1"
   ]
  },
  {
   "cell_type": "code",
   "execution_count": 4,
   "metadata": {},
   "outputs": [
    {
     "name": "stdout",
     "output_type": "stream",
     "text": [
      "0.22924326056227384\n"
     ]
    }
   ],
   "source": [
    "myNum = random.random()\n",
    "print(myNum)"
   ]
  },
  {
   "cell_type": "markdown",
   "metadata": {},
   "source": [
    "# myNum = random.randint(A,B)\n",
    "# Creates a random integer N between A and B\n",
    "# A <= N <= B"
   ]
  },
  {
   "cell_type": "code",
   "execution_count": 7,
   "metadata": {},
   "outputs": [
    {
     "name": "stdout",
     "output_type": "stream",
     "text": [
      "18\n"
     ]
    }
   ],
   "source": [
    "myNum = random.randint(10,20)\n",
    "print(myNum)"
   ]
  },
  {
   "cell_type": "code",
   "execution_count": 8,
   "metadata": {},
   "outputs": [
    {
     "name": "stdout",
     "output_type": "stream",
     "text": [
      "10\n"
     ]
    }
   ],
   "source": [
    "myNum = random.randint(10,20)\n",
    "print(myNum)"
   ]
  },
  {
   "cell_type": "code",
   "execution_count": 9,
   "metadata": {},
   "outputs": [
    {
     "name": "stdout",
     "output_type": "stream",
     "text": [
      "14\n"
     ]
    }
   ],
   "source": [
    "myNum = random.randrange(10,20,2) # only even random numbers\n",
    "print(myNum)"
   ]
  },
  {
   "cell_type": "code",
   "execution_count": 113,
   "metadata": {},
   "outputs": [
    {
     "name": "stdout",
     "output_type": "stream",
     "text": [
      "18\n"
     ]
    }
   ],
   "source": [
    "myNum = random.randrange(10,20,2) # only even random numbers\n",
    "print(myNum)"
   ]
  },
  {
   "cell_type": "markdown",
   "metadata": {},
   "source": [
    "# Choice -- Random selection from list"
   ]
  },
  {
   "cell_type": "code",
   "execution_count": 16,
   "metadata": {},
   "outputs": [],
   "source": [
    "dice = [\"one\",\"two\",\"three\",\"four\",\"five\",\"six\"]"
   ]
  },
  {
   "cell_type": "code",
   "execution_count": 17,
   "metadata": {},
   "outputs": [
    {
     "name": "stdout",
     "output_type": "stream",
     "text": [
      "three\n"
     ]
    }
   ],
   "source": [
    "player1 = random.choice(dice)\n",
    "print(player1)"
   ]
  },
  {
   "cell_type": "code",
   "execution_count": 18,
   "metadata": {},
   "outputs": [
    {
     "name": "stdout",
     "output_type": "stream",
     "text": [
      "five\n"
     ]
    }
   ],
   "source": [
    "player2 = random.choice(dice)\n",
    "print(player2)"
   ]
  },
  {
   "cell_type": "markdown",
   "metadata": {},
   "source": [
    "# Shuffle the list in place"
   ]
  },
  {
   "cell_type": "code",
   "execution_count": 19,
   "metadata": {},
   "outputs": [
    {
     "name": "stdout",
     "output_type": "stream",
     "text": [
      "['five', 'one', 'six', 'two', 'three', 'four']\n"
     ]
    }
   ],
   "source": [
    "random.shuffle(dice)\n",
    "print(dice)"
   ]
  },
  {
   "cell_type": "code",
   "execution_count": 21,
   "metadata": {},
   "outputs": [
    {
     "name": "stdout",
     "output_type": "stream",
     "text": [
      "['one', 'five', 'two', 'four', 'three', 'six']\n"
     ]
    }
   ],
   "source": [
    "random.shuffle(dice)\n",
    "print(dice)"
   ]
  },
  {
   "cell_type": "markdown",
   "metadata": {},
   "source": [
    "# Sampling"
   ]
  },
  {
   "cell_type": "code",
   "execution_count": 23,
   "metadata": {},
   "outputs": [
    {
     "name": "stdout",
     "output_type": "stream",
     "text": [
      "['three', 'six', 'two', 'five']\n"
     ]
    }
   ],
   "source": [
    "mySample = random.sample(dice,4)\n",
    "print(mySample)"
   ]
  },
  {
   "cell_type": "markdown",
   "metadata": {},
   "source": [
    "# Python lists 1d, 2d"
   ]
  },
  {
   "cell_type": "code",
   "execution_count": 120,
   "metadata": {},
   "outputs": [
    {
     "name": "stdout",
     "output_type": "stream",
     "text": [
      "4\n"
     ]
    }
   ],
   "source": [
    "list_1d = [0,1,2,3,4,5,6,7,8,9]\n",
    "print(list_1d[4])"
   ]
  },
  {
   "cell_type": "code",
   "execution_count": 122,
   "metadata": {},
   "outputs": [],
   "source": [
    "# TWO SQUARE BRACKETS IS 2D list, 3 SQUARE BRACKETS IS 3D LIST\n",
    "list_2d = [[\"r0c0\",\"r0c1\",\"r0c2\"],\n",
    "           [\"r1c0\",\"r1c1\",\"r1c2\"],\n",
    "           [\"r2c0\",\"r1c1\",\"r2c2\"]]"
   ]
  },
  {
   "cell_type": "code",
   "execution_count": 123,
   "metadata": {},
   "outputs": [
    {
     "name": "stdout",
     "output_type": "stream",
     "text": [
      "aa=> ['r1c0', 'r1c1', 'r1c2']\n",
      "bb=> r1c2\n"
     ]
    }
   ],
   "source": [
    "# Row is index 1, Column is index 2; There could be a 3rd dimension it will be the 3rd index\n",
    "myVal = list_2d[1]\n",
    "print(\"aa=>\",myVal)\n",
    "myVal = list_2d[1][2]\n",
    "print(\"bb=>\",myVal)"
   ]
  },
  {
   "cell_type": "markdown",
   "metadata": {},
   "source": [
    "# Use random number generator to create list of \n",
    "# 100 integers between 0 and 100"
   ]
  },
  {
   "cell_type": "code",
   "execution_count": 27,
   "metadata": {},
   "outputs": [],
   "source": [
    "numbers = 100\n",
    "numbers_100a = []\n",
    "for kk in range(numbers):\n",
    "    myNum = random.randint(0,100) # includes 0, excludes 100\n",
    "    numbers_100a.append(myNum)"
   ]
  },
  {
   "cell_type": "code",
   "execution_count": 28,
   "metadata": {},
   "outputs": [
    {
     "name": "stdout",
     "output_type": "stream",
     "text": [
      "[2, 73, 79, 12, 84, 43, 63, 83, 92, 14]\n"
     ]
    }
   ],
   "source": [
    "print(numbers_100a[0:10])"
   ]
  },
  {
   "cell_type": "code",
   "execution_count": 29,
   "metadata": {},
   "outputs": [],
   "source": [
    "numbers_100b = [random.randint(0,100) for _ in range(100)]\n",
    "# _ is Python's throwaway variable"
   ]
  },
  {
   "cell_type": "code",
   "execution_count": 30,
   "metadata": {},
   "outputs": [
    {
     "name": "stdout",
     "output_type": "stream",
     "text": [
      "[37, 13, 89, 57, 43, 3, 8, 86, 50, 13]\n"
     ]
    }
   ],
   "source": [
    "print(numbers_100b[0:10])"
   ]
  },
  {
   "cell_type": "code",
   "execution_count": 32,
   "metadata": {},
   "outputs": [
    {
     "name": "stdout",
     "output_type": "stream",
     "text": [
      "Number of elements in the list ==> 100\n"
     ]
    }
   ],
   "source": [
    "print(\"Number of elements in the list ==>\",len(numbers_100a))"
   ]
  },
  {
   "cell_type": "markdown",
   "metadata": {},
   "source": [
    "# Sum all elements in the list"
   ]
  },
  {
   "cell_type": "code",
   "execution_count": 33,
   "metadata": {},
   "outputs": [
    {
     "name": "stdout",
     "output_type": "stream",
     "text": [
      "Sum of all elements ==> 5227\n"
     ]
    }
   ],
   "source": [
    "# Add all list elements\n",
    "mySum = sum(numbers_100a)\n",
    "print(\"Sum of all elements ==>\",mySum)"
   ]
  },
  {
   "cell_type": "code",
   "execution_count": 34,
   "metadata": {},
   "outputs": [
    {
     "name": "stdout",
     "output_type": "stream",
     "text": [
      "[2, 73, 79, 12, 84, 43, 63, 83, 92, 14, 88, 13, 41, 92, 33, 56, 26, 98, 19, 6, 79, 38, 2, 94, 52, 16, 71, 2, 19, 75, 26, 1, 55, 85, 14, 22, 7, 47, 70, 32, 51, 84, 94, 71, 86, 90, 93, 57, 48, 13, 52, 67, 39, 74, 19, 5, 41, 44, 92, 88, 27, 83, 83, 92, 87, 94, 10, 13, 39, 2, 40, 92, 42, 26, 98, 71, 46, 44, 74, 79, 31, 88, 57, 57, 57, 93, 9, 75, 90, 13, 67, 61, 48, 67, 52, 73, 23, 37, 0, 55]\n"
     ]
    }
   ],
   "source": [
    "print(numbers_100a)"
   ]
  },
  {
   "cell_type": "markdown",
   "metadata": {},
   "source": [
    "# Sorting"
   ]
  },
  {
   "cell_type": "code",
   "execution_count": 130,
   "metadata": {},
   "outputs": [
    {
     "name": "stdout",
     "output_type": "stream",
     "text": [
      "[0, 1, 2, 4, 4, 6, 7, 8, 8, 8, 8, 13, 14, 14, 15, 18, 20, 21, 26, 28, 28, 32, 33, 34, 35, 35, 37, 37, 37, 38, 38, 39, 41, 44, 46, 48, 49, 51, 51, 51, 52, 54, 56, 56, 57, 58, 58, 59, 60, 60, 61, 61, 62, 62, 63, 64, 65, 67, 68, 69, 70, 71, 72, 73, 73, 73, 73, 74, 75, 75, 77, 78, 78, 79, 79, 81, 82, 83, 83, 83, 84, 85, 86, 86, 87, 87, 88, 88, 88, 89, 91, 92, 94, 95, 95, 95, 95, 96, 98, 99]\n"
     ]
    }
   ],
   "source": [
    "numbers_100a.sort() # in-place ascending sort\n",
    "print(numbers_100a)"
   ]
  },
  {
   "cell_type": "code",
   "execution_count": 131,
   "metadata": {},
   "outputs": [
    {
     "name": "stdout",
     "output_type": "stream",
     "text": [
      "[99, 98, 96, 95, 95, 95, 95, 94, 92, 91, 89, 88, 88, 88, 87, 87, 86, 86, 85, 84, 83, 83, 83, 82, 81, 79, 79, 78, 78, 77, 75, 75, 74, 73, 73, 73, 73, 72, 71, 70, 69, 68, 67, 65, 64, 63, 62, 62, 61, 61, 60, 60, 59, 58, 58, 57, 56, 56, 54, 52, 51, 51, 51, 49, 48, 46, 44, 41, 39, 38, 38, 37, 37, 37, 35, 35, 34, 33, 32, 28, 28, 26, 21, 20, 18, 15, 14, 14, 13, 8, 8, 8, 8, 7, 6, 4, 4, 2, 1, 0]\n"
     ]
    }
   ],
   "source": [
    "numbers_100a.sort(reverse=True) # in-place descending sort\n",
    "print(numbers_100a)"
   ]
  },
  {
   "cell_type": "code",
   "execution_count": 132,
   "metadata": {},
   "outputs": [
    {
     "name": "stdout",
     "output_type": "stream",
     "text": [
      "[84, 84, 1, 77, 15, 61, 27, 63, 10, 29, 25, 71, 12, 52, 51, 79, 61, 69, 57, 97, 91, 39, 9, 34, 54, 0, 79, 91, 9, 2, 94, 27, 98, 95, 41, 58, 97, 56, 84, 21, 81, 76, 72, 84, 42, 54, 82, 42, 39, 41, 47, 45, 23, 38, 44, 42, 0, 14, 27, 77, 92, 81, 35, 29, 68, 11, 27, 0, 29, 71, 30, 71, 36, 77, 62, 66, 47, 6, 6, 64, 72, 60, 38, 40, 59, 58, 33, 20, 58, 44, 67, 22, 14, 15, 38, 51, 99, 91, 48, 76]\n"
     ]
    }
   ],
   "source": [
    "print(numbers_100b)"
   ]
  },
  {
   "cell_type": "code",
   "execution_count": 133,
   "metadata": {},
   "outputs": [
    {
     "name": "stdout",
     "output_type": "stream",
     "text": [
      "[0, 0, 0, 1, 2, 6, 6, 9, 9, 10, 11, 12, 14, 14, 15, 15, 20, 21, 22, 23, 25, 27, 27, 27, 27, 29, 29, 29, 30, 33, 34, 35, 36, 38, 38, 38, 39, 39, 40, 41, 41, 42, 42, 42, 44, 44, 45, 47, 47, 48, 51, 51, 52, 54, 54, 56, 57, 58, 58, 58, 59, 60, 61, 61, 62, 63, 64, 66, 67, 68, 69, 71, 71, 71, 72, 72, 76, 76, 77, 77, 77, 79, 79, 81, 81, 82, 84, 84, 84, 84, 91, 91, 91, 92, 94, 95, 97, 97, 98, 99]\n"
     ]
    }
   ],
   "source": [
    "sorted_b = sorted(numbers_100b)\n",
    "print(sorted_b)"
   ]
  },
  {
   "cell_type": "markdown",
   "metadata": {},
   "source": [
    "# Plotting"
   ]
  },
  {
   "cell_type": "code",
   "execution_count": 40,
   "metadata": {},
   "outputs": [],
   "source": [
    "import matplotlib.pyplot as plt"
   ]
  },
  {
   "cell_type": "code",
   "execution_count": 41,
   "metadata": {},
   "outputs": [
    {
     "data": {
      "image/png": "[encoded data removed]",
      "text/plain": [
       "<Figure size 432x288 with 1 Axes>"
      ]
     },
     "metadata": {
      "needs_background": "light"
     },
     "output_type": "display_data"
    }
   ],
   "source": [
    "plt.plot([1,2,5,7,8,10]) # can be any list\n",
    "plt.show()"
   ]
  },
  {
   "cell_type": "code",
   "execution_count": 43,
   "metadata": {},
   "outputs": [
    {
     "data": {
      "image/png": "[encoded data removed]",
      "text/plain": [
       "<Figure size 432x288 with 1 Axes>"
      ]
     },
     "metadata": {
      "needs_background": "light"
     },
     "output_type": "display_data"
    }
   ],
   "source": [
    "plt.plot(numbers_100b) # can be any list\n",
    "plt.show()"
   ]
  },
  {
   "cell_type": "code",
   "execution_count": 52,
   "metadata": {},
   "outputs": [
    {
     "data": {
      "image/png": "[encoded data removed]",
      "text/plain": [
       "<Figure size 720x288 with 1 Axes>"
      ]
     },
     "metadata": {
      "needs_background": "light"
     },
     "output_type": "display_data"
    }
   ],
   "source": [
    "plt.figure(figsize=(10,4))\n",
    "plt.plot(numbers_100b) # can be any list\n",
    "plt.show()"
   ]
  },
  {
   "cell_type": "code",
   "execution_count": 53,
   "metadata": {},
   "outputs": [
    {
     "data": {
      "image/png": "[encoded data removed]",
      "text/plain": [
       "<Figure size 432x288 with 1 Axes>"
      ]
     },
     "metadata": {
      "needs_background": "light"
     },
     "output_type": "display_data"
    }
   ],
   "source": [
    "plt.plot(numbers_100b, 'o', color='black')\n",
    "plt.show()"
   ]
  },
  {
   "cell_type": "code",
   "execution_count": 54,
   "metadata": {},
   "outputs": [
    {
     "data": {
      "image/png": "[encoded data removed]",
      "text/plain": [
       "<Figure size 720x288 with 1 Axes>"
      ]
     },
     "metadata": {
      "needs_background": "light"
     },
     "output_type": "display_data"
    }
   ],
   "source": [
    "plt.figure(figsize=(10,4))\n",
    "plt.plot(numbers_100b, 'o', color='black')\n",
    "plt.show()"
   ]
  },
  {
   "cell_type": "code",
   "execution_count": null,
   "metadata": {},
   "outputs": [],
   "source": []
  },
  {
   "cell_type": "markdown",
   "metadata": {},
   "source": [
    "# Homework problems"
   ]
  },
  {
   "cell_type": "code",
   "execution_count": 51,
   "metadata": {},
   "outputs": [],
   "source": [
    "# HW1) Use Python random number generator to create a list of 100 random\n",
    "#      even numbers between 700 and 800. Call the list \"numbers_100_even_700800.\""
   ]
  },
  {
   "cell_type": "code",
   "execution_count": 101,
   "metadata": {},
   "outputs": [
    {
     "name": "stdout",
     "output_type": "stream",
     "text": [
      "[788, 768, 708, 766, 718, 736, 708, 736, 754, 726, 766, 756, 722, 768, 792, 796, 720, 722, 736, 792, 740, 788, 780, 796, 746, 726, 790, 782, 758, 750, 794, 702, 746, 716, 792, 718, 784, 738, 702, 786, 748, 792, 780, 738, 744, 734, 758, 768, 756, 746, 738, 736, 720, 754, 738, 780, 774, 758, 778, 710, 796, 788, 776, 716, 712, 772, 712, 700, 744, 706, 718, 778, 726, 782, 780, 790, 702, 748, 724, 740, 712, 772, 730, 798, 728, 710, 784, 704, 738, 716, 716, 700, 710, 734, 710, 756, 726, 716, 704, 778]\n"
     ]
    }
   ],
   "source": [
    "# Your code here ...\n",
    "import random\n",
    "\n",
    "def my_random_list():\n",
    "    mylist = []\n",
    "    i = 0\n",
    "    while (i <= 99) :\n",
    "        mynum = random.randrange(700, 800, 2)\n",
    "#        print(mynum)\n",
    "        mylist is mylist.append(mynum)\n",
    "#        print(mylist)\n",
    "        i = i + 1\n",
    "#        print(i)\n",
    "#    print(mylist)\n",
    "    return mylist\n",
    "\n",
    "numbers_100_even_700800 = my_random_list()\n",
    "print(numbers_100_even_700800)"
   ]
  },
  {
   "cell_type": "code",
   "execution_count": 133,
   "metadata": {},
   "outputs": [
    {
     "name": "stdout",
     "output_type": "stream",
     "text": [
      "[791, 791, 761, 765, 791, 743, 799, 797, 757, 705, 711, 711, 703, 731, 717, 779, 791, 797, 715, 701, 797, 781, 721, 765, 717, 781, 755, 701, 747, 773, 777, 713, 753, 759, 797, 785, 767, 755, 705, 717, 779, 701, 745, 781, 737, 707, 761, 717, 719, 797, 793, 795, 747, 739, 725, 769, 747, 741, 725, 735, 791, 777, 739, 753, 753, 727, 783, 749, 783, 739, 783, 729, 713, 737, 789, 703, 779, 733, 731, 743, 705, 737, 707, 783, 783, 781, 767, 719, 785, 709, 793, 745, 739, 711, 755, 771, 739, 729, 735, 703]\n"
     ]
    }
   ],
   "source": [
    "import random\n",
    "\n",
    "def my_random_list_odd():\n",
    "    mylist = []\n",
    "    i = 0\n",
    "    while (i <= 99) :\n",
    "        mynum = random.randrange(700, 800, 2)\n",
    "#        print(mynum)\n",
    "        mylist is mylist.append(mynum+1)\n",
    "#        print(mylist)\n",
    "        i = i + 1\n",
    "#        print(i)\n",
    "#    print(mylist)\n",
    "    return mylist\n",
    "\n",
    "numbers_100_odd_700800 = my_random_list_odd()\n",
    "print(numbers_100_odd_700800)"
   ]
  },
  {
   "cell_type": "code",
   "execution_count": 71,
   "metadata": {},
   "outputs": [],
   "source": [
    "# HW2) Print the length of the list numbers_100_even_700800\n"
   ]
  },
  {
   "cell_type": "code",
   "execution_count": 102,
   "metadata": {},
   "outputs": [
    {
     "data": {
      "text/plain": [
       "100"
      ]
     },
     "execution_count": 102,
     "metadata": {},
     "output_type": "execute_result"
    }
   ],
   "source": [
    "# Your code here ...\n",
    "len(numbers_100_even_700800)"
   ]
  },
  {
   "cell_type": "code",
   "execution_count": 144,
   "metadata": {},
   "outputs": [],
   "source": [
    "# HW3) Find the minimum and maximum number in the list numbers_100_even_700800"
   ]
  },
  {
   "cell_type": "code",
   "execution_count": 103,
   "metadata": {},
   "outputs": [
    {
     "name": "stdout",
     "output_type": "stream",
     "text": [
      "The first and last numbers of list numbers_100_even_700800 are 788 710 respectively\n"
     ]
    }
   ],
   "source": [
    "# Your code here ...\n",
    "\n",
    "first = numbers_100_even_700800[0]\n",
    "last = numbers_100_even_700800[len(sortlist)-1]\n",
    "\n",
    "print(\"The first and last numbers of list numbers_100_even_700800 are\", first,last, \"respectively\")"
   ]
  },
  {
   "cell_type": "code",
   "execution_count": 104,
   "metadata": {},
   "outputs": [],
   "source": [
    "# HW4) Sort the list numbers_100_even_700800 in-place. Print the first and last element of numbers_100_even_700800."
   ]
  },
  {
   "cell_type": "code",
   "execution_count": 105,
   "metadata": {},
   "outputs": [
    {
     "name": "stdout",
     "output_type": "stream",
     "text": [
      "The first and last numbers of SORTED list numbers_100_even_700800 are 700 786 respectively\n"
     ]
    }
   ],
   "source": [
    "# Your code here ...\n",
    "#sortlist = numbers_100_even_700800\n",
    "##print(sortlist)\n",
    "#sortlist.sort()\n",
    "\n",
    "numbers_100_even_700800.sort()\n",
    "sort_first = numbers_100_even_700800[0]\n",
    "sort_last = numbers_100_even_700800[len(sortlist)-1]\n",
    "\n",
    "print(\"The first and last numbers of SORTED list numbers_100_even_700800 are\", sort_first, sort_last, \"respectively\")"
   ]
  },
  {
   "cell_type": "code",
   "execution_count": 106,
   "metadata": {},
   "outputs": [],
   "source": [
    "# HW5) Plot the list numbers_100_even_700800"
   ]
  },
  {
   "cell_type": "code",
   "execution_count": 107,
   "metadata": {},
   "outputs": [
    {
     "data": {
      "image/png": "[encoded data removed]",
      "text/plain": [
       "<Figure size 432x288 with 1 Axes>"
      ]
     },
     "metadata": {
      "needs_background": "light"
     },
     "output_type": "display_data"
    },
    {
     "data": {
      "text/plain": [
       "100"
      ]
     },
     "execution_count": 107,
     "metadata": {},
     "output_type": "execute_result"
    }
   ],
   "source": [
    "# Your code here ...\n",
    "import matplotlib.pyplot as plt\n",
    "plt.plot(numbers_100_even_700800) # can be any list\n",
    "plt.show()\n",
    "len(numbers_100_even_700800)"
   ]
  },
  {
   "cell_type": "code",
   "execution_count": 108,
   "metadata": {},
   "outputs": [],
   "source": [
    "# HW6) Shuffle the list numbers_100_even_700800. Randomly pick an element from the list"
   ]
  },
  {
   "cell_type": "code",
   "execution_count": 109,
   "metadata": {},
   "outputs": [
    {
     "name": "stdout",
     "output_type": "stream",
     "text": [
      "744\n"
     ]
    }
   ],
   "source": [
    "# Your code here ...\n",
    "import random\n",
    "random.shuffle(numbers_100_even_700800)\n",
    "#print(numbers_100_even_700800)\n",
    "num_random = random.choice(numbers_100_even_700800)\n",
    "print(num_random)"
   ]
  },
  {
   "cell_type": "code",
   "execution_count": 88,
   "metadata": {},
   "outputs": [],
   "source": [
    "# HW7) Create a sample of 10 elements from the list numbers_100_even_700800."
   ]
  },
  {
   "cell_type": "code",
   "execution_count": 116,
   "metadata": {},
   "outputs": [
    {
     "name": "stdout",
     "output_type": "stream",
     "text": [
      "[768, 750, 746, 766, 700, 758, 738, 784, 780, 734]\n"
     ]
    }
   ],
   "source": [
    "# Your code here ...\n",
    "import random\n",
    "#print(numbers_100_even_700800)\n",
    "\n",
    "def sample_10_list(x):\n",
    "    sample_num = 0\n",
    "    sample_list = []\n",
    "    i=0\n",
    "    while (i <= 9):\n",
    "        sample_num = random.choice(x)\n",
    "        sample_list.append(sample_num)\n",
    "#        print(i, sample_list)\n",
    "        i += 1\n",
    "    return sample_list\n",
    "            \n",
    "list_of_ten = sample_10_list(numbers_100_even_700800)\n",
    "print(list_of_ten)"
   ]
  },
  {
   "cell_type": "code",
   "execution_count": 154,
   "metadata": {},
   "outputs": [],
   "source": [
    "# HW8) Create Python list_3d of dimensions 3x3x2. Initialize it with any numbers.\n",
    "#      print values with index location 2,2,1"
   ]
  },
  {
   "cell_type": "code",
   "execution_count": 132,
   "metadata": {},
   "outputs": [
    {
     "name": "stdout",
     "output_type": "stream",
     "text": [
      "[[[1, 1, 1], [2, 2, 1], [3, 3, 1]], [[1, 2, 2], [2, 2, 2], [3, 3, 2]]]\n",
      " Value with index location[2,2,1] is :  2\n"
     ]
    }
   ],
   "source": [
    "# Your code here ...\n",
    "list_3d = [[[1,1,1], [2,2,1], [3,3,1]],\n",
    "           [[1,2,2], [2,2,2], [3,3,2]]]\n",
    "\n",
    "# print(list_3d)\n",
    "my_value = list_3d[1][1][0]\n",
    "print(\" Value with index location[2,2,1] is : \", my_value)"
   ]
  },
  {
   "cell_type": "code",
   "execution_count": 131,
   "metadata": {},
   "outputs": [
    {
     "name": "stdout",
     "output_type": "stream",
     "text": [
      "[[['#', '#', '#'], ['#', '#', '#'], ['#', '#', '#']],\n",
      " [['#', '#', '#'], ['#', '#', '#'], ['#', '#', '#']]]\n"
     ]
    }
   ],
   "source": [
    "# import pprint \n",
    "  \n",
    "# def ThreeD(a, b, c): \n",
    "#     lst = [[ ['#' for col in range(a)] for col in range(b)] for row in range(c)] \n",
    "#     return lst \n",
    "      \n",
    "# # Driver Code \n",
    "# col1 = 3\n",
    "# col2 = 3\n",
    "# row = 2\n",
    "# # used the pretty printed function \n",
    "# pprint.pprint(ThreeD(col1, col2, row)) "
   ]
  },
  {
   "cell_type": "code",
   "execution_count": 141,
   "metadata": {},
   "outputs": [
    {
     "data": {
      "image/png": "[encoded data removed]",
      "text/plain": [
       "<Figure size 432x288 with 1 Axes>"
      ]
     },
     "metadata": {
      "needs_background": "light"
     },
     "output_type": "display_data"
    }
   ],
   "source": [
    "# EXTRA WORK\n",
    "plt.plot(numbers_100_even_700800, 'X', color='blue')\n",
    "plt.show()"
   ]
  },
  {
   "cell_type": "code",
   "execution_count": null,
   "metadata": {},
   "outputs": [],
   "source": []
  }
 ],
 "metadata": {
  "kernelspec": {
   "display_name": "Python 3",
   "language": "python",
   "name": "python3"
  },
  "language_info": {
   "codemirror_mode": {
    "name": "ipython",
    "version": 3
   },
   "file_extension": ".py",
   "mimetype": "text/x-python",
   "name": "python",
   "nbconvert_exporter": "python",
   "pygments_lexer": "ipython3",
   "version": "3.7.3"
  }
 },
 "nbformat": 4,
 "nbformat_minor": 2
}
